{
 "cells": [
  {
   "cell_type": "code",
   "execution_count": null,
   "id": "3d8813ef",
   "metadata": {},
   "outputs": [],
   "source": [
    "import pandas as pd\n",
    "import seaborn as sns\n",
    "import matplotlib.pyplot as plt"
   ]
  },
  {
   "cell_type": "code",
   "execution_count": null,
   "id": "91000a7b",
   "metadata": {},
   "outputs": [],
   "source": [
    "#loading dataset\n",
    "df=pd.read_csv(\"House_Price_Data.csv\")"
   ]
  },
  {
   "cell_type": "code",
   "execution_count": 4,
   "id": "82125bb6",
   "metadata": {},
   "outputs": [
    {
     "name": "stdout",
     "output_type": "stream",
     "text": [
      "<class 'pandas.core.frame.DataFrame'>\n",
      "RangeIndex: 14119 entries, 0 to 14118\n",
      "Data columns (total 6 columns):\n",
      " #   Column        Non-Null Count  Dtype \n",
      "---  ------        --------------  ----- \n",
      " 0   bhk           14119 non-null  int64 \n",
      " 1   propertytype  14119 non-null  object\n",
      " 2   location      14119 non-null  object\n",
      " 3   sqft          14119 non-null  int64 \n",
      " 4   pricepersqft  14119 non-null  int64 \n",
      " 5   totalprice    14119 non-null  int64 \n",
      "dtypes: int64(4), object(2)\n",
      "memory usage: 662.0+ KB\n"
     ]
    },
    {
     "data": {
      "text/html": [
       "<div>\n",
       "<style scoped>\n",
       "    .dataframe tbody tr th:only-of-type {\n",
       "        vertical-align: middle;\n",
       "    }\n",
       "\n",
       "    .dataframe tbody tr th {\n",
       "        vertical-align: top;\n",
       "    }\n",
       "\n",
       "    .dataframe thead th {\n",
       "        text-align: right;\n",
       "    }\n",
       "</style>\n",
       "<table border=\"1\" class=\"dataframe\">\n",
       "  <thead>\n",
       "    <tr style=\"text-align: right;\">\n",
       "      <th></th>\n",
       "      <th>bhk</th>\n",
       "      <th>propertytype</th>\n",
       "      <th>location</th>\n",
       "      <th>sqft</th>\n",
       "      <th>pricepersqft</th>\n",
       "      <th>totalprice</th>\n",
       "    </tr>\n",
       "  </thead>\n",
       "  <tbody>\n",
       "    <tr>\n",
       "      <th>0</th>\n",
       "      <td>3</td>\n",
       "      <td>Flat</td>\n",
       "      <td>Ahmedabad</td>\n",
       "      <td>1346</td>\n",
       "      <td>6233</td>\n",
       "      <td>15700000</td>\n",
       "    </tr>\n",
       "    <tr>\n",
       "      <th>1</th>\n",
       "      <td>4</td>\n",
       "      <td>Flat</td>\n",
       "      <td>Ahmedabad</td>\n",
       "      <td>1872</td>\n",
       "      <td>4873</td>\n",
       "      <td>17500000</td>\n",
       "    </tr>\n",
       "    <tr>\n",
       "      <th>2</th>\n",
       "      <td>4</td>\n",
       "      <td>Flat</td>\n",
       "      <td>Ahmedabad</td>\n",
       "      <td>1650</td>\n",
       "      <td>6733</td>\n",
       "      <td>20200000</td>\n",
       "    </tr>\n",
       "    <tr>\n",
       "      <th>3</th>\n",
       "      <td>5</td>\n",
       "      <td>Flat</td>\n",
       "      <td>Ahmedabad</td>\n",
       "      <td>10201</td>\n",
       "      <td>8499</td>\n",
       "      <td>86700000</td>\n",
       "    </tr>\n",
       "    <tr>\n",
       "      <th>4</th>\n",
       "      <td>3</td>\n",
       "      <td>Flat</td>\n",
       "      <td>Ahmedabad</td>\n",
       "      <td>968</td>\n",
       "      <td>5944</td>\n",
       "      <td>10400000</td>\n",
       "    </tr>\n",
       "  </tbody>\n",
       "</table>\n",
       "</div>"
      ],
      "text/plain": [
       "   bhk propertytype   location   sqft  pricepersqft  totalprice\n",
       "0    3         Flat  Ahmedabad   1346          6233    15700000\n",
       "1    4         Flat  Ahmedabad   1872          4873    17500000\n",
       "2    4         Flat  Ahmedabad   1650          6733    20200000\n",
       "3    5         Flat  Ahmedabad  10201          8499    86700000\n",
       "4    3         Flat  Ahmedabad    968          5944    10400000"
      ]
     },
     "execution_count": 4,
     "metadata": {},
     "output_type": "execute_result"
    }
   ],
   "source": [
    "df.info()\n",
    "df.head()"
   ]
  },
  {
   "cell_type": "code",
   "execution_count": 5,
   "id": "42bbca00",
   "metadata": {},
   "outputs": [
    {
     "data": {
      "text/html": [
       "<div>\n",
       "<style scoped>\n",
       "    .dataframe tbody tr th:only-of-type {\n",
       "        vertical-align: middle;\n",
       "    }\n",
       "\n",
       "    .dataframe tbody tr th {\n",
       "        vertical-align: top;\n",
       "    }\n",
       "\n",
       "    .dataframe thead th {\n",
       "        text-align: right;\n",
       "    }\n",
       "</style>\n",
       "<table border=\"1\" class=\"dataframe\">\n",
       "  <thead>\n",
       "    <tr style=\"text-align: right;\">\n",
       "      <th></th>\n",
       "      <th>bhk</th>\n",
       "      <th>sqft</th>\n",
       "      <th>pricepersqft</th>\n",
       "      <th>totalprice</th>\n",
       "    </tr>\n",
       "  </thead>\n",
       "  <tbody>\n",
       "    <tr>\n",
       "      <th>count</th>\n",
       "      <td>14119.000000</td>\n",
       "      <td>14119.000000</td>\n",
       "      <td>1.411900e+04</td>\n",
       "      <td>1.411900e+04</td>\n",
       "    </tr>\n",
       "    <tr>\n",
       "      <th>mean</th>\n",
       "      <td>2.709824</td>\n",
       "      <td>1562.767122</td>\n",
       "      <td>1.218960e+04</td>\n",
       "      <td>1.276700e+07</td>\n",
       "    </tr>\n",
       "    <tr>\n",
       "      <th>std</th>\n",
       "      <td>0.787175</td>\n",
       "      <td>8207.723233</td>\n",
       "      <td>2.599234e+05</td>\n",
       "      <td>2.111962e+07</td>\n",
       "    </tr>\n",
       "    <tr>\n",
       "      <th>min</th>\n",
       "      <td>1.000000</td>\n",
       "      <td>5.000000</td>\n",
       "      <td>2.100000e+01</td>\n",
       "      <td>1.100000e+05</td>\n",
       "    </tr>\n",
       "    <tr>\n",
       "      <th>25%</th>\n",
       "      <td>2.000000</td>\n",
       "      <td>916.000000</td>\n",
       "      <td>4.000000e+03</td>\n",
       "      <td>4.500000e+06</td>\n",
       "    </tr>\n",
       "    <tr>\n",
       "      <th>50%</th>\n",
       "      <td>3.000000</td>\n",
       "      <td>1210.000000</td>\n",
       "      <td>5.526000e+03</td>\n",
       "      <td>7.500000e+06</td>\n",
       "    </tr>\n",
       "    <tr>\n",
       "      <th>75%</th>\n",
       "      <td>3.000000</td>\n",
       "      <td>1620.000000</td>\n",
       "      <td>8.929000e+03</td>\n",
       "      <td>1.410000e+07</td>\n",
       "    </tr>\n",
       "    <tr>\n",
       "      <th>max</th>\n",
       "      <td>10.000000</td>\n",
       "      <td>799284.000000</td>\n",
       "      <td>2.000000e+07</td>\n",
       "      <td>8.686000e+08</td>\n",
       "    </tr>\n",
       "  </tbody>\n",
       "</table>\n",
       "</div>"
      ],
      "text/plain": [
       "                bhk           sqft  pricepersqft    totalprice\n",
       "count  14119.000000   14119.000000  1.411900e+04  1.411900e+04\n",
       "mean       2.709824    1562.767122  1.218960e+04  1.276700e+07\n",
       "std        0.787175    8207.723233  2.599234e+05  2.111962e+07\n",
       "min        1.000000       5.000000  2.100000e+01  1.100000e+05\n",
       "25%        2.000000     916.000000  4.000000e+03  4.500000e+06\n",
       "50%        3.000000    1210.000000  5.526000e+03  7.500000e+06\n",
       "75%        3.000000    1620.000000  8.929000e+03  1.410000e+07\n",
       "max       10.000000  799284.000000  2.000000e+07  8.686000e+08"
      ]
     },
     "execution_count": 5,
     "metadata": {},
     "output_type": "execute_result"
    }
   ],
   "source": [
    "df.describe()"
   ]
  },
  {
   "cell_type": "code",
   "execution_count": null,
   "id": "2f15e8fb",
   "metadata": {},
   "outputs": [
    {
     "data": {
      "text/plain": [
       "bhk             0\n",
       "propertytype    0\n",
       "location        0\n",
       "sqft            0\n",
       "pricepersqft    0\n",
       "totalprice      0\n",
       "dtype: int64"
      ]
     },
     "execution_count": 6,
     "metadata": {},
     "output_type": "execute_result"
    }
   ],
   "source": [
    "df.isnull().sum()\n",
    "#no null value, so there is no need to drop any value\n"
   ]
  },
  {
   "cell_type": "code",
   "execution_count": null,
   "id": "c1153270",
   "metadata": {},
   "outputs": [
    {
     "name": "stdout",
     "output_type": "stream",
     "text": [
      "Unique BHKs: [ 3  4  5  2  6  1 10  7  8  9]\n",
      "Unique Property Types: ['Flat' 'Villa' 'House']\n",
      "Unique Locations: 56\n"
     ]
    }
   ],
   "source": [
    "#exploring unique values\n",
    "print(\"Unique BHKs:\", df['bhk'].unique())\n",
    "print(\"Unique Property Types:\", df['propertytype'].unique())\n",
    "print(\"Unique Locations:\", df['location'].nunique())"
   ]
  },
  {
   "cell_type": "code",
   "execution_count": 17,
   "id": "611acee3",
   "metadata": {},
   "outputs": [],
   "source": [
    "#removing outliers\n",
    "df = df[df['sqft'] > 300]\n",
    "df = df[df['totalprice'] < 10**8]\n",
    "df = df[df['totalprice'] / df['sqft'] > 500]    # ₹ per sqft > 500\n",
    "df = df[df['totalprice'] / df['sqft'] < 10000]\n",
    "df['location'].value_counts().head(10) # Top 10 locations by data count\n",
    "#keep only flat propertytype for simplicity\n",
    "df = df[df['propertytype'] == 'Flat']\n"
   ]
  },
  {
   "cell_type": "code",
   "execution_count": 18,
   "id": "895c7e9d",
   "metadata": {},
   "outputs": [
    {
     "data": {
      "image/png": "[encoded data removed]",
      "text/plain": [
       "<Figure size 800x500 with 1 Axes>"
      ]
     },
     "metadata": {},
     "output_type": "display_data"
    }
   ],
   "source": [
    "plt.figure(figsize=(8,5))\n",
    "sns.scatterplot(data=df,x='sqft',y='totalprice',hue='bhk')\n",
    "plt.title('Price vs Sqft by BHK')\n",
    "plt.show()"
   ]
  },
  {
   "cell_type": "code",
   "execution_count": 19,
   "id": "df2cdb5c",
   "metadata": {},
   "outputs": [
    {
     "data": {
      "image/png": "[encoded data removed]",
      "text/plain": [
       "<Figure size 800x500 with 1 Axes>"
      ]
     },
     "metadata": {},
     "output_type": "display_data"
    }
   ],
   "source": [
    "plt.figure(figsize=(8, 5))\n",
    "sns.boxplot(data=df, x='bhk', y='totalprice')\n",
    "plt.title('Price Distribution by BHK')\n",
    "plt.show()\n"
   ]
  },
  {
   "cell_type": "code",
   "execution_count": 20,
   "id": "6cd0f52c",
   "metadata": {},
   "outputs": [
    {
     "name": "stdout",
     "output_type": "stream",
     "text": [
      "✅ Data cleaned and saved as cleaned_data.csv\n"
     ]
    }
   ],
   "source": [
    "#cleaning saved data for model training\n",
    "df.to_csv('cleaned_data.csv',index=False)\n",
    "print(\"✅ Data cleaned and saved as cleaned_data.csv\")\n"
   ]
  },
  {
   "cell_type": "code",
   "execution_count": null,
   "id": "6f947fdd",
   "metadata": {},
   "outputs": [],
   "source": []
  }
 ],
 "metadata": {
  "kernelspec": {
   "display_name": "Python 3",
   "language": "python",
   "name": "python3"
  },
  "language_info": {
   "codemirror_mode": {
    "name": "ipython",
    "version": 3
   },
   "file_extension": ".py",
   "mimetype": "text/x-python",
   "name": "python",
   "nbconvert_exporter": "python",
   "pygments_lexer": "ipython3",
   "version": "3.12.0"
  }
 },
 "nbformat": 4,
 "nbformat_minor": 5
}
